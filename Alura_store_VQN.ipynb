{
  "cells": [
    {
      "cell_type": "markdown",
      "metadata": {
        "id": "RhEdWd9YUR6H"
      },
      "source": [
        "### Importación de datos\n",
        "\n"
      ]
    },
    {
      "cell_type": "code",
      "execution_count": 1,
      "metadata": {
        "colab": {
          "base_uri": "https://localhost:8080/",
          "height": 206
        },
        "id": "T3EvaeQ_INIL",
        "outputId": "e9c5efe1-82a3-43ab-e8d7-6d01e4fa3514"
      },
      "outputs": [
        {
          "data": {
            "application/vnd.microsoft.datawrangler.viewer.v0+json": {
              "columns": [
                {
                  "name": "index",
                  "rawType": "int64",
                  "type": "integer"
                },
                {
                  "name": "Producto",
                  "rawType": "object",
                  "type": "string"
                },
                {
                  "name": "Categoría del Producto",
                  "rawType": "object",
                  "type": "string"
                },
                {
                  "name": "Precio",
                  "rawType": "float64",
                  "type": "float"
                },
                {
                  "name": "Costo de envío",
                  "rawType": "float64",
                  "type": "float"
                },
                {
                  "name": "Fecha de Compra",
                  "rawType": "object",
                  "type": "string"
                },
                {
                  "name": "Vendedor",
                  "rawType": "object",
                  "type": "string"
                },
                {
                  "name": "Lugar de Compra",
                  "rawType": "object",
                  "type": "string"
                },
                {
                  "name": "Calificación",
                  "rawType": "int64",
                  "type": "integer"
                },
                {
                  "name": "Método de pago",
                  "rawType": "object",
                  "type": "string"
                },
                {
                  "name": "Cantidad de cuotas",
                  "rawType": "int64",
                  "type": "integer"
                },
                {
                  "name": "lat",
                  "rawType": "float64",
                  "type": "float"
                },
                {
                  "name": "lon",
                  "rawType": "float64",
                  "type": "float"
                }
              ],
              "ref": "a16be711-bb7d-4c7a-997f-8df3f768b014",
              "rows": [
                [
                  "0",
                  "Asistente virtual",
                  "Electrónicos",
                  "164300.0",
                  "6900.0",
                  "16/01/2021",
                  "Pedro Gomez",
                  "Bogotá",
                  "4",
                  "Tarjeta de crédito",
                  "8",
                  "4.60971",
                  "-74.08175"
                ],
                [
                  "1",
                  "Mesa de comedor",
                  "Muebles",
                  "192300.0",
                  "8400.0",
                  "18/05/2022",
                  "Beatriz Morales",
                  "Medellín",
                  "1",
                  "Tarjeta de crédito",
                  "4",
                  "6.25184",
                  "-75.56359"
                ],
                [
                  "2",
                  "Juego de mesa",
                  "Juguetes",
                  "209600.0",
                  "15900.0",
                  "15/03/2021",
                  "Juan Fernandez",
                  "Cartagena",
                  "1",
                  "Tarjeta de crédito",
                  "1",
                  "10.39972",
                  "-75.51444"
                ],
                [
                  "3",
                  "Microondas",
                  "Electrodomésticos",
                  "757500.0",
                  "41000.0",
                  "03/05/2022",
                  "Juan Fernandez",
                  "Cali",
                  "4",
                  "Nequi",
                  "1",
                  "3.43722",
                  "-76.5225"
                ],
                [
                  "4",
                  "Silla de oficina",
                  "Muebles",
                  "335200.0",
                  "20200.0",
                  "07/11/2020",
                  "Maria Alfonso",
                  "Medellín",
                  "5",
                  "Nequi",
                  "1",
                  "6.25184",
                  "-75.56359"
                ]
              ],
              "shape": {
                "columns": 12,
                "rows": 5
              }
            },
            "text/html": [
              "<div>\n",
              "<style scoped>\n",
              "    .dataframe tbody tr th:only-of-type {\n",
              "        vertical-align: middle;\n",
              "    }\n",
              "\n",
              "    .dataframe tbody tr th {\n",
              "        vertical-align: top;\n",
              "    }\n",
              "\n",
              "    .dataframe thead th {\n",
              "        text-align: right;\n",
              "    }\n",
              "</style>\n",
              "<table border=\"1\" class=\"dataframe\">\n",
              "  <thead>\n",
              "    <tr style=\"text-align: right;\">\n",
              "      <th></th>\n",
              "      <th>Producto</th>\n",
              "      <th>Categoría del Producto</th>\n",
              "      <th>Precio</th>\n",
              "      <th>Costo de envío</th>\n",
              "      <th>Fecha de Compra</th>\n",
              "      <th>Vendedor</th>\n",
              "      <th>Lugar de Compra</th>\n",
              "      <th>Calificación</th>\n",
              "      <th>Método de pago</th>\n",
              "      <th>Cantidad de cuotas</th>\n",
              "      <th>lat</th>\n",
              "      <th>lon</th>\n",
              "    </tr>\n",
              "  </thead>\n",
              "  <tbody>\n",
              "    <tr>\n",
              "      <th>0</th>\n",
              "      <td>Asistente virtual</td>\n",
              "      <td>Electrónicos</td>\n",
              "      <td>164300.0</td>\n",
              "      <td>6900.0</td>\n",
              "      <td>16/01/2021</td>\n",
              "      <td>Pedro Gomez</td>\n",
              "      <td>Bogotá</td>\n",
              "      <td>4</td>\n",
              "      <td>Tarjeta de crédito</td>\n",
              "      <td>8</td>\n",
              "      <td>4.60971</td>\n",
              "      <td>-74.08175</td>\n",
              "    </tr>\n",
              "    <tr>\n",
              "      <th>1</th>\n",
              "      <td>Mesa de comedor</td>\n",
              "      <td>Muebles</td>\n",
              "      <td>192300.0</td>\n",
              "      <td>8400.0</td>\n",
              "      <td>18/05/2022</td>\n",
              "      <td>Beatriz Morales</td>\n",
              "      <td>Medellín</td>\n",
              "      <td>1</td>\n",
              "      <td>Tarjeta de crédito</td>\n",
              "      <td>4</td>\n",
              "      <td>6.25184</td>\n",
              "      <td>-75.56359</td>\n",
              "    </tr>\n",
              "    <tr>\n",
              "      <th>2</th>\n",
              "      <td>Juego de mesa</td>\n",
              "      <td>Juguetes</td>\n",
              "      <td>209600.0</td>\n",
              "      <td>15900.0</td>\n",
              "      <td>15/03/2021</td>\n",
              "      <td>Juan Fernandez</td>\n",
              "      <td>Cartagena</td>\n",
              "      <td>1</td>\n",
              "      <td>Tarjeta de crédito</td>\n",
              "      <td>1</td>\n",
              "      <td>10.39972</td>\n",
              "      <td>-75.51444</td>\n",
              "    </tr>\n",
              "    <tr>\n",
              "      <th>3</th>\n",
              "      <td>Microondas</td>\n",
              "      <td>Electrodomésticos</td>\n",
              "      <td>757500.0</td>\n",
              "      <td>41000.0</td>\n",
              "      <td>03/05/2022</td>\n",
              "      <td>Juan Fernandez</td>\n",
              "      <td>Cali</td>\n",
              "      <td>4</td>\n",
              "      <td>Nequi</td>\n",
              "      <td>1</td>\n",
              "      <td>3.43722</td>\n",
              "      <td>-76.52250</td>\n",
              "    </tr>\n",
              "    <tr>\n",
              "      <th>4</th>\n",
              "      <td>Silla de oficina</td>\n",
              "      <td>Muebles</td>\n",
              "      <td>335200.0</td>\n",
              "      <td>20200.0</td>\n",
              "      <td>07/11/2020</td>\n",
              "      <td>Maria Alfonso</td>\n",
              "      <td>Medellín</td>\n",
              "      <td>5</td>\n",
              "      <td>Nequi</td>\n",
              "      <td>1</td>\n",
              "      <td>6.25184</td>\n",
              "      <td>-75.56359</td>\n",
              "    </tr>\n",
              "  </tbody>\n",
              "</table>\n",
              "</div>"
            ],
            "text/plain": [
              "            Producto Categoría del Producto    Precio  Costo de envío  \\\n",
              "0  Asistente virtual           Electrónicos  164300.0          6900.0   \n",
              "1    Mesa de comedor                Muebles  192300.0          8400.0   \n",
              "2      Juego de mesa               Juguetes  209600.0         15900.0   \n",
              "3         Microondas      Electrodomésticos  757500.0         41000.0   \n",
              "4   Silla de oficina                Muebles  335200.0         20200.0   \n",
              "\n",
              "  Fecha de Compra         Vendedor Lugar de Compra  Calificación  \\\n",
              "0      16/01/2021      Pedro Gomez          Bogotá             4   \n",
              "1      18/05/2022  Beatriz Morales        Medellín             1   \n",
              "2      15/03/2021   Juan Fernandez       Cartagena             1   \n",
              "3      03/05/2022   Juan Fernandez            Cali             4   \n",
              "4      07/11/2020    Maria Alfonso        Medellín             5   \n",
              "\n",
              "       Método de pago  Cantidad de cuotas       lat       lon  \n",
              "0  Tarjeta de crédito                   8   4.60971 -74.08175  \n",
              "1  Tarjeta de crédito                   4   6.25184 -75.56359  \n",
              "2  Tarjeta de crédito                   1  10.39972 -75.51444  \n",
              "3               Nequi                   1   3.43722 -76.52250  \n",
              "4               Nequi                   1   6.25184 -75.56359  "
            ]
          },
          "execution_count": 1,
          "metadata": {},
          "output_type": "execute_result"
        }
      ],
      "source": [
        "import pandas as pd\n",
        "\n",
        "url1 = \"https://raw.githubusercontent.com/alura-es-cursos/challenge1-data-science-latam/refs/heads/main/base-de-datos-challenge1-latam/tienda_1%20.csv\"\n",
        "url2 = \"https://raw.githubusercontent.com/alura-es-cursos/challenge1-data-science-latam/refs/heads/main/base-de-datos-challenge1-latam/tienda_2.csv\"\n",
        "url3 = \"https://raw.githubusercontent.com/alura-es-cursos/challenge1-data-science-latam/refs/heads/main/base-de-datos-challenge1-latam/tienda_3.csv\"\n",
        "url4 = \"https://raw.githubusercontent.com/alura-es-cursos/challenge1-data-science-latam/refs/heads/main/base-de-datos-challenge1-latam/tienda_4.csv\"\n",
        "\n",
        "tienda1 = pd.read_csv(url1)\n",
        "tienda2 = pd.read_csv(url2)\n",
        "tienda3 = pd.read_csv(url3)\n",
        "tienda4 = pd.read_csv(url4)\n",
        "\n",
        "tienda1.head()"
      ]
    },
    {
      "cell_type": "markdown",
      "metadata": {
        "id": "X62IW3KFUIYm"
      },
      "source": [
        "#1. Análisis de facturación\n",
        "\n"
      ]
    },
    {
      "cell_type": "code",
      "execution_count": 2,
      "metadata": {
        "id": "xykobSftV64I"
      },
      "outputs": [
        {
          "data": {
            "application/vnd.microsoft.datawrangler.viewer.v0+json": {
              "columns": [
                {
                  "name": "index",
                  "rawType": "int64",
                  "type": "integer"
                },
                {
                  "name": "Producto",
                  "rawType": "object",
                  "type": "string"
                },
                {
                  "name": "Categoría del Producto",
                  "rawType": "object",
                  "type": "string"
                },
                {
                  "name": "Precio",
                  "rawType": "float64",
                  "type": "float"
                },
                {
                  "name": "Costo de envío",
                  "rawType": "float64",
                  "type": "float"
                },
                {
                  "name": "Fecha de Compra",
                  "rawType": "object",
                  "type": "string"
                },
                {
                  "name": "Vendedor",
                  "rawType": "object",
                  "type": "string"
                },
                {
                  "name": "Lugar de Compra",
                  "rawType": "object",
                  "type": "string"
                },
                {
                  "name": "Calificación",
                  "rawType": "int64",
                  "type": "integer"
                },
                {
                  "name": "Método de pago",
                  "rawType": "object",
                  "type": "string"
                },
                {
                  "name": "Cantidad de cuotas",
                  "rawType": "int64",
                  "type": "integer"
                },
                {
                  "name": "lat",
                  "rawType": "float64",
                  "type": "float"
                },
                {
                  "name": "lon",
                  "rawType": "float64",
                  "type": "float"
                }
              ],
              "ref": "ccfe17ad-1a7c-445b-93c3-b1a0c373aae9",
              "rows": [
                [
                  "0",
                  "Asistente virtual",
                  "Electrónicos",
                  "164300.0",
                  "6900.0",
                  "16/01/2021",
                  "Pedro Gomez",
                  "Bogotá",
                  "4",
                  "Tarjeta de crédito",
                  "8",
                  "4.60971",
                  "-74.08175"
                ],
                [
                  "1",
                  "Mesa de comedor",
                  "Muebles",
                  "192300.0",
                  "8400.0",
                  "18/05/2022",
                  "Beatriz Morales",
                  "Medellín",
                  "1",
                  "Tarjeta de crédito",
                  "4",
                  "6.25184",
                  "-75.56359"
                ],
                [
                  "2",
                  "Juego de mesa",
                  "Juguetes",
                  "209600.0",
                  "15900.0",
                  "15/03/2021",
                  "Juan Fernandez",
                  "Cartagena",
                  "1",
                  "Tarjeta de crédito",
                  "1",
                  "10.39972",
                  "-75.51444"
                ],
                [
                  "3",
                  "Microondas",
                  "Electrodomésticos",
                  "757500.0",
                  "41000.0",
                  "03/05/2022",
                  "Juan Fernandez",
                  "Cali",
                  "4",
                  "Nequi",
                  "1",
                  "3.43722",
                  "-76.5225"
                ],
                [
                  "4",
                  "Silla de oficina",
                  "Muebles",
                  "335200.0",
                  "20200.0",
                  "07/11/2020",
                  "Maria Alfonso",
                  "Medellín",
                  "5",
                  "Nequi",
                  "1",
                  "6.25184",
                  "-75.56359"
                ],
                [
                  "5",
                  "Bloques de construcción",
                  "Juguetes",
                  "24200.0",
                  "0.0",
                  "03/12/2020",
                  "Beatriz Morales",
                  "Cali",
                  "5",
                  "Cupón",
                  "1",
                  "3.43722",
                  "-76.5225"
                ],
                [
                  "6",
                  "Muñeca bebé",
                  "Juguetes",
                  "44200.0",
                  "0.0",
                  "07/08/2021",
                  "Juan Fernandez",
                  "Bogotá",
                  "3",
                  "Nequi",
                  "1",
                  "4.60971",
                  "-74.08175"
                ],
                [
                  "7",
                  "Lavavajillas",
                  "Electrodomésticos",
                  "1189700.0",
                  "63700.0",
                  "18/06/2021",
                  "Felipe Santos",
                  "Santa Marta",
                  "5",
                  "Tarjeta de crédito",
                  "10",
                  "11.24079",
                  "-74.19904"
                ],
                [
                  "8",
                  "Lavadora de ropa",
                  "Electrodomésticos",
                  "1518200.0",
                  "79000.0",
                  "08/01/2022",
                  "Izabela de León",
                  "Bogotá",
                  "1",
                  "Tarjeta de crédito",
                  "5",
                  "4.60971",
                  "-74.08175"
                ],
                [
                  "9",
                  "Carrito de control remoto",
                  "Juguetes",
                  "75200.0",
                  "5100.0",
                  "24/02/2020",
                  "Beatriz Morales",
                  "Bogotá",
                  "5",
                  "Nequi",
                  "1",
                  "4.60971",
                  "-74.08175"
                ]
              ],
              "shape": {
                "columns": 12,
                "rows": 10
              }
            },
            "text/html": [
              "<div>\n",
              "<style scoped>\n",
              "    .dataframe tbody tr th:only-of-type {\n",
              "        vertical-align: middle;\n",
              "    }\n",
              "\n",
              "    .dataframe tbody tr th {\n",
              "        vertical-align: top;\n",
              "    }\n",
              "\n",
              "    .dataframe thead th {\n",
              "        text-align: right;\n",
              "    }\n",
              "</style>\n",
              "<table border=\"1\" class=\"dataframe\">\n",
              "  <thead>\n",
              "    <tr style=\"text-align: right;\">\n",
              "      <th></th>\n",
              "      <th>Producto</th>\n",
              "      <th>Categoría del Producto</th>\n",
              "      <th>Precio</th>\n",
              "      <th>Costo de envío</th>\n",
              "      <th>Fecha de Compra</th>\n",
              "      <th>Vendedor</th>\n",
              "      <th>Lugar de Compra</th>\n",
              "      <th>Calificación</th>\n",
              "      <th>Método de pago</th>\n",
              "      <th>Cantidad de cuotas</th>\n",
              "      <th>lat</th>\n",
              "      <th>lon</th>\n",
              "    </tr>\n",
              "  </thead>\n",
              "  <tbody>\n",
              "    <tr>\n",
              "      <th>0</th>\n",
              "      <td>Asistente virtual</td>\n",
              "      <td>Electrónicos</td>\n",
              "      <td>164300.0</td>\n",
              "      <td>6900.0</td>\n",
              "      <td>16/01/2021</td>\n",
              "      <td>Pedro Gomez</td>\n",
              "      <td>Bogotá</td>\n",
              "      <td>4</td>\n",
              "      <td>Tarjeta de crédito</td>\n",
              "      <td>8</td>\n",
              "      <td>4.60971</td>\n",
              "      <td>-74.08175</td>\n",
              "    </tr>\n",
              "    <tr>\n",
              "      <th>1</th>\n",
              "      <td>Mesa de comedor</td>\n",
              "      <td>Muebles</td>\n",
              "      <td>192300.0</td>\n",
              "      <td>8400.0</td>\n",
              "      <td>18/05/2022</td>\n",
              "      <td>Beatriz Morales</td>\n",
              "      <td>Medellín</td>\n",
              "      <td>1</td>\n",
              "      <td>Tarjeta de crédito</td>\n",
              "      <td>4</td>\n",
              "      <td>6.25184</td>\n",
              "      <td>-75.56359</td>\n",
              "    </tr>\n",
              "    <tr>\n",
              "      <th>2</th>\n",
              "      <td>Juego de mesa</td>\n",
              "      <td>Juguetes</td>\n",
              "      <td>209600.0</td>\n",
              "      <td>15900.0</td>\n",
              "      <td>15/03/2021</td>\n",
              "      <td>Juan Fernandez</td>\n",
              "      <td>Cartagena</td>\n",
              "      <td>1</td>\n",
              "      <td>Tarjeta de crédito</td>\n",
              "      <td>1</td>\n",
              "      <td>10.39972</td>\n",
              "      <td>-75.51444</td>\n",
              "    </tr>\n",
              "    <tr>\n",
              "      <th>3</th>\n",
              "      <td>Microondas</td>\n",
              "      <td>Electrodomésticos</td>\n",
              "      <td>757500.0</td>\n",
              "      <td>41000.0</td>\n",
              "      <td>03/05/2022</td>\n",
              "      <td>Juan Fernandez</td>\n",
              "      <td>Cali</td>\n",
              "      <td>4</td>\n",
              "      <td>Nequi</td>\n",
              "      <td>1</td>\n",
              "      <td>3.43722</td>\n",
              "      <td>-76.52250</td>\n",
              "    </tr>\n",
              "    <tr>\n",
              "      <th>4</th>\n",
              "      <td>Silla de oficina</td>\n",
              "      <td>Muebles</td>\n",
              "      <td>335200.0</td>\n",
              "      <td>20200.0</td>\n",
              "      <td>07/11/2020</td>\n",
              "      <td>Maria Alfonso</td>\n",
              "      <td>Medellín</td>\n",
              "      <td>5</td>\n",
              "      <td>Nequi</td>\n",
              "      <td>1</td>\n",
              "      <td>6.25184</td>\n",
              "      <td>-75.56359</td>\n",
              "    </tr>\n",
              "    <tr>\n",
              "      <th>5</th>\n",
              "      <td>Bloques de construcción</td>\n",
              "      <td>Juguetes</td>\n",
              "      <td>24200.0</td>\n",
              "      <td>0.0</td>\n",
              "      <td>03/12/2020</td>\n",
              "      <td>Beatriz Morales</td>\n",
              "      <td>Cali</td>\n",
              "      <td>5</td>\n",
              "      <td>Cupón</td>\n",
              "      <td>1</td>\n",
              "      <td>3.43722</td>\n",
              "      <td>-76.52250</td>\n",
              "    </tr>\n",
              "    <tr>\n",
              "      <th>6</th>\n",
              "      <td>Muñeca bebé</td>\n",
              "      <td>Juguetes</td>\n",
              "      <td>44200.0</td>\n",
              "      <td>0.0</td>\n",
              "      <td>07/08/2021</td>\n",
              "      <td>Juan Fernandez</td>\n",
              "      <td>Bogotá</td>\n",
              "      <td>3</td>\n",
              "      <td>Nequi</td>\n",
              "      <td>1</td>\n",
              "      <td>4.60971</td>\n",
              "      <td>-74.08175</td>\n",
              "    </tr>\n",
              "    <tr>\n",
              "      <th>7</th>\n",
              "      <td>Lavavajillas</td>\n",
              "      <td>Electrodomésticos</td>\n",
              "      <td>1189700.0</td>\n",
              "      <td>63700.0</td>\n",
              "      <td>18/06/2021</td>\n",
              "      <td>Felipe Santos</td>\n",
              "      <td>Santa Marta</td>\n",
              "      <td>5</td>\n",
              "      <td>Tarjeta de crédito</td>\n",
              "      <td>10</td>\n",
              "      <td>11.24079</td>\n",
              "      <td>-74.19904</td>\n",
              "    </tr>\n",
              "    <tr>\n",
              "      <th>8</th>\n",
              "      <td>Lavadora de ropa</td>\n",
              "      <td>Electrodomésticos</td>\n",
              "      <td>1518200.0</td>\n",
              "      <td>79000.0</td>\n",
              "      <td>08/01/2022</td>\n",
              "      <td>Izabela de León</td>\n",
              "      <td>Bogotá</td>\n",
              "      <td>1</td>\n",
              "      <td>Tarjeta de crédito</td>\n",
              "      <td>5</td>\n",
              "      <td>4.60971</td>\n",
              "      <td>-74.08175</td>\n",
              "    </tr>\n",
              "    <tr>\n",
              "      <th>9</th>\n",
              "      <td>Carrito de control remoto</td>\n",
              "      <td>Juguetes</td>\n",
              "      <td>75200.0</td>\n",
              "      <td>5100.0</td>\n",
              "      <td>24/02/2020</td>\n",
              "      <td>Beatriz Morales</td>\n",
              "      <td>Bogotá</td>\n",
              "      <td>5</td>\n",
              "      <td>Nequi</td>\n",
              "      <td>1</td>\n",
              "      <td>4.60971</td>\n",
              "      <td>-74.08175</td>\n",
              "    </tr>\n",
              "  </tbody>\n",
              "</table>\n",
              "</div>"
            ],
            "text/plain": [
              "                    Producto Categoría del Producto     Precio  \\\n",
              "0          Asistente virtual           Electrónicos   164300.0   \n",
              "1            Mesa de comedor                Muebles   192300.0   \n",
              "2              Juego de mesa               Juguetes   209600.0   \n",
              "3                 Microondas      Electrodomésticos   757500.0   \n",
              "4           Silla de oficina                Muebles   335200.0   \n",
              "5    Bloques de construcción               Juguetes    24200.0   \n",
              "6                Muñeca bebé               Juguetes    44200.0   \n",
              "7               Lavavajillas      Electrodomésticos  1189700.0   \n",
              "8           Lavadora de ropa      Electrodomésticos  1518200.0   \n",
              "9  Carrito de control remoto               Juguetes    75200.0   \n",
              "\n",
              "   Costo de envío Fecha de Compra         Vendedor Lugar de Compra  \\\n",
              "0          6900.0      16/01/2021      Pedro Gomez          Bogotá   \n",
              "1          8400.0      18/05/2022  Beatriz Morales        Medellín   \n",
              "2         15900.0      15/03/2021   Juan Fernandez       Cartagena   \n",
              "3         41000.0      03/05/2022   Juan Fernandez            Cali   \n",
              "4         20200.0      07/11/2020    Maria Alfonso        Medellín   \n",
              "5             0.0      03/12/2020  Beatriz Morales            Cali   \n",
              "6             0.0      07/08/2021   Juan Fernandez          Bogotá   \n",
              "7         63700.0      18/06/2021    Felipe Santos     Santa Marta   \n",
              "8         79000.0      08/01/2022  Izabela de León          Bogotá   \n",
              "9          5100.0      24/02/2020  Beatriz Morales          Bogotá   \n",
              "\n",
              "   Calificación      Método de pago  Cantidad de cuotas       lat       lon  \n",
              "0             4  Tarjeta de crédito                   8   4.60971 -74.08175  \n",
              "1             1  Tarjeta de crédito                   4   6.25184 -75.56359  \n",
              "2             1  Tarjeta de crédito                   1  10.39972 -75.51444  \n",
              "3             4               Nequi                   1   3.43722 -76.52250  \n",
              "4             5               Nequi                   1   6.25184 -75.56359  \n",
              "5             5               Cupón                   1   3.43722 -76.52250  \n",
              "6             3               Nequi                   1   4.60971 -74.08175  \n",
              "7             5  Tarjeta de crédito                  10  11.24079 -74.19904  \n",
              "8             1  Tarjeta de crédito                   5   4.60971 -74.08175  \n",
              "9             5               Nequi                   1   4.60971 -74.08175  "
            ]
          },
          "execution_count": 2,
          "metadata": {},
          "output_type": "execute_result"
        }
      ],
      "source": [
        "tienda_1 = pd.DataFrame(tienda1)\n",
        "tienda_1.head(10)"
      ]
    },
    {
      "cell_type": "code",
      "execution_count": 3,
      "metadata": {
        "id": "KDyr8E71V3m-"
      },
      "outputs": [
        {
          "data": {
            "application/vnd.microsoft.datawrangler.viewer.v0+json": {
              "columns": [
                {
                  "name": "index",
                  "rawType": "int64",
                  "type": "integer"
                },
                {
                  "name": "Producto",
                  "rawType": "object",
                  "type": "string"
                },
                {
                  "name": "Categoría del Producto",
                  "rawType": "object",
                  "type": "string"
                },
                {
                  "name": "Precio",
                  "rawType": "float64",
                  "type": "float"
                },
                {
                  "name": "Costo de envío",
                  "rawType": "float64",
                  "type": "float"
                },
                {
                  "name": "Fecha de Compra",
                  "rawType": "object",
                  "type": "string"
                },
                {
                  "name": "Vendedor",
                  "rawType": "object",
                  "type": "string"
                },
                {
                  "name": "Lugar de Compra",
                  "rawType": "object",
                  "type": "string"
                },
                {
                  "name": "Calificación",
                  "rawType": "int64",
                  "type": "integer"
                },
                {
                  "name": "Método de pago",
                  "rawType": "object",
                  "type": "string"
                },
                {
                  "name": "Cantidad de cuotas",
                  "rawType": "int64",
                  "type": "integer"
                },
                {
                  "name": "lat",
                  "rawType": "float64",
                  "type": "float"
                },
                {
                  "name": "lon",
                  "rawType": "float64",
                  "type": "float"
                }
              ],
              "ref": "56b3722a-a88d-4c8b-af3d-05dbe9f1c319",
              "rows": [
                [
                  "0",
                  "Silla de oficina",
                  "Muebles",
                  "283600.0",
                  "15300.0",
                  "04/08/2021",
                  "Izabela de León",
                  "Medellín",
                  "1",
                  "Nequi",
                  "1",
                  "6.25184",
                  "-75.56359"
                ],
                [
                  "1",
                  "Pandereta",
                  "Instrumentos musicales",
                  "76800.0",
                  "2300.0",
                  "26/11/2020",
                  "Blanca Ramirez",
                  "Medellín",
                  "3",
                  "Tarjeta de crédito",
                  "4",
                  "6.25184",
                  "-75.56359"
                ],
                [
                  "2",
                  "Cama king",
                  "Muebles",
                  "443300.0",
                  "23800.0",
                  "22/10/2021",
                  "Izabela de León",
                  "Pereira",
                  "5",
                  "Tarjeta de crédito",
                  "10",
                  "4.81333",
                  "-75.69611"
                ],
                [
                  "3",
                  "Cama king",
                  "Muebles",
                  "906200.0",
                  "46400.0",
                  "04/05/2022",
                  "Maria Alfonso",
                  "Cali",
                  "5",
                  "Tarjeta de crédito",
                  "10",
                  "3.43722",
                  "-76.5225"
                ],
                [
                  "4",
                  "Silla de oficina",
                  "Muebles",
                  "397800.0",
                  "19400.0",
                  "26/02/2022",
                  "Lucas Olivera",
                  "Bogotá",
                  "4",
                  "Tarjeta de crédito",
                  "3",
                  "4.60971",
                  "-74.08175"
                ],
                [
                  "5",
                  "Guitarra acústica",
                  "Instrumentos musicales",
                  "298400.0",
                  "16100.0",
                  "10/09/2021",
                  "Beatriz Morales",
                  "Leticia",
                  "5",
                  "Tarjeta de crédito",
                  "3",
                  "-4.21528",
                  "-69.94056"
                ],
                [
                  "6",
                  "Mochila",
                  "Deportes y diversión",
                  "105900.0",
                  "9000.0",
                  "10/06/2020",
                  "Blanca Ramirez",
                  "Bogotá",
                  "1",
                  "Cupón",
                  "1",
                  "4.60971",
                  "-74.08175"
                ],
                [
                  "7",
                  "Tablet ABXY",
                  "Electrónicos",
                  "962600.0",
                  "49400.0",
                  "12/04/2022",
                  "Juliana Costa",
                  "Medellín",
                  "4",
                  "Nequi",
                  "1",
                  "6.25184",
                  "-75.56359"
                ],
                [
                  "8",
                  "Olla de presión",
                  "Artículos para el hogar",
                  "82800.0",
                  "4800.0",
                  "11/04/2022",
                  "Izabela de León",
                  "Barranquilla",
                  "5",
                  "Nequi",
                  "1",
                  "10.96854",
                  "-74.78132"
                ],
                [
                  "9",
                  "Cubo mágico 8x8",
                  "Juguetes",
                  "9100.0",
                  "3800.0",
                  "04/09/2021",
                  "Camila Rivera",
                  "Bogotá",
                  "5",
                  "Tarjeta de crédito",
                  "1",
                  "4.60971",
                  "-74.08175"
                ]
              ],
              "shape": {
                "columns": 12,
                "rows": 10
              }
            },
            "text/html": [
              "<div>\n",
              "<style scoped>\n",
              "    .dataframe tbody tr th:only-of-type {\n",
              "        vertical-align: middle;\n",
              "    }\n",
              "\n",
              "    .dataframe tbody tr th {\n",
              "        vertical-align: top;\n",
              "    }\n",
              "\n",
              "    .dataframe thead th {\n",
              "        text-align: right;\n",
              "    }\n",
              "</style>\n",
              "<table border=\"1\" class=\"dataframe\">\n",
              "  <thead>\n",
              "    <tr style=\"text-align: right;\">\n",
              "      <th></th>\n",
              "      <th>Producto</th>\n",
              "      <th>Categoría del Producto</th>\n",
              "      <th>Precio</th>\n",
              "      <th>Costo de envío</th>\n",
              "      <th>Fecha de Compra</th>\n",
              "      <th>Vendedor</th>\n",
              "      <th>Lugar de Compra</th>\n",
              "      <th>Calificación</th>\n",
              "      <th>Método de pago</th>\n",
              "      <th>Cantidad de cuotas</th>\n",
              "      <th>lat</th>\n",
              "      <th>lon</th>\n",
              "    </tr>\n",
              "  </thead>\n",
              "  <tbody>\n",
              "    <tr>\n",
              "      <th>0</th>\n",
              "      <td>Silla de oficina</td>\n",
              "      <td>Muebles</td>\n",
              "      <td>283600.0</td>\n",
              "      <td>15300.0</td>\n",
              "      <td>04/08/2021</td>\n",
              "      <td>Izabela de León</td>\n",
              "      <td>Medellín</td>\n",
              "      <td>1</td>\n",
              "      <td>Nequi</td>\n",
              "      <td>1</td>\n",
              "      <td>6.25184</td>\n",
              "      <td>-75.56359</td>\n",
              "    </tr>\n",
              "    <tr>\n",
              "      <th>1</th>\n",
              "      <td>Pandereta</td>\n",
              "      <td>Instrumentos musicales</td>\n",
              "      <td>76800.0</td>\n",
              "      <td>2300.0</td>\n",
              "      <td>26/11/2020</td>\n",
              "      <td>Blanca Ramirez</td>\n",
              "      <td>Medellín</td>\n",
              "      <td>3</td>\n",
              "      <td>Tarjeta de crédito</td>\n",
              "      <td>4</td>\n",
              "      <td>6.25184</td>\n",
              "      <td>-75.56359</td>\n",
              "    </tr>\n",
              "    <tr>\n",
              "      <th>2</th>\n",
              "      <td>Cama king</td>\n",
              "      <td>Muebles</td>\n",
              "      <td>443300.0</td>\n",
              "      <td>23800.0</td>\n",
              "      <td>22/10/2021</td>\n",
              "      <td>Izabela de León</td>\n",
              "      <td>Pereira</td>\n",
              "      <td>5</td>\n",
              "      <td>Tarjeta de crédito</td>\n",
              "      <td>10</td>\n",
              "      <td>4.81333</td>\n",
              "      <td>-75.69611</td>\n",
              "    </tr>\n",
              "    <tr>\n",
              "      <th>3</th>\n",
              "      <td>Cama king</td>\n",
              "      <td>Muebles</td>\n",
              "      <td>906200.0</td>\n",
              "      <td>46400.0</td>\n",
              "      <td>04/05/2022</td>\n",
              "      <td>Maria Alfonso</td>\n",
              "      <td>Cali</td>\n",
              "      <td>5</td>\n",
              "      <td>Tarjeta de crédito</td>\n",
              "      <td>10</td>\n",
              "      <td>3.43722</td>\n",
              "      <td>-76.52250</td>\n",
              "    </tr>\n",
              "    <tr>\n",
              "      <th>4</th>\n",
              "      <td>Silla de oficina</td>\n",
              "      <td>Muebles</td>\n",
              "      <td>397800.0</td>\n",
              "      <td>19400.0</td>\n",
              "      <td>26/02/2022</td>\n",
              "      <td>Lucas Olivera</td>\n",
              "      <td>Bogotá</td>\n",
              "      <td>4</td>\n",
              "      <td>Tarjeta de crédito</td>\n",
              "      <td>3</td>\n",
              "      <td>4.60971</td>\n",
              "      <td>-74.08175</td>\n",
              "    </tr>\n",
              "    <tr>\n",
              "      <th>5</th>\n",
              "      <td>Guitarra acústica</td>\n",
              "      <td>Instrumentos musicales</td>\n",
              "      <td>298400.0</td>\n",
              "      <td>16100.0</td>\n",
              "      <td>10/09/2021</td>\n",
              "      <td>Beatriz Morales</td>\n",
              "      <td>Leticia</td>\n",
              "      <td>5</td>\n",
              "      <td>Tarjeta de crédito</td>\n",
              "      <td>3</td>\n",
              "      <td>-4.21528</td>\n",
              "      <td>-69.94056</td>\n",
              "    </tr>\n",
              "    <tr>\n",
              "      <th>6</th>\n",
              "      <td>Mochila</td>\n",
              "      <td>Deportes y diversión</td>\n",
              "      <td>105900.0</td>\n",
              "      <td>9000.0</td>\n",
              "      <td>10/06/2020</td>\n",
              "      <td>Blanca Ramirez</td>\n",
              "      <td>Bogotá</td>\n",
              "      <td>1</td>\n",
              "      <td>Cupón</td>\n",
              "      <td>1</td>\n",
              "      <td>4.60971</td>\n",
              "      <td>-74.08175</td>\n",
              "    </tr>\n",
              "    <tr>\n",
              "      <th>7</th>\n",
              "      <td>Tablet ABXY</td>\n",
              "      <td>Electrónicos</td>\n",
              "      <td>962600.0</td>\n",
              "      <td>49400.0</td>\n",
              "      <td>12/04/2022</td>\n",
              "      <td>Juliana Costa</td>\n",
              "      <td>Medellín</td>\n",
              "      <td>4</td>\n",
              "      <td>Nequi</td>\n",
              "      <td>1</td>\n",
              "      <td>6.25184</td>\n",
              "      <td>-75.56359</td>\n",
              "    </tr>\n",
              "    <tr>\n",
              "      <th>8</th>\n",
              "      <td>Olla de presión</td>\n",
              "      <td>Artículos para el hogar</td>\n",
              "      <td>82800.0</td>\n",
              "      <td>4800.0</td>\n",
              "      <td>11/04/2022</td>\n",
              "      <td>Izabela de León</td>\n",
              "      <td>Barranquilla</td>\n",
              "      <td>5</td>\n",
              "      <td>Nequi</td>\n",
              "      <td>1</td>\n",
              "      <td>10.96854</td>\n",
              "      <td>-74.78132</td>\n",
              "    </tr>\n",
              "    <tr>\n",
              "      <th>9</th>\n",
              "      <td>Cubo mágico 8x8</td>\n",
              "      <td>Juguetes</td>\n",
              "      <td>9100.0</td>\n",
              "      <td>3800.0</td>\n",
              "      <td>04/09/2021</td>\n",
              "      <td>Camila Rivera</td>\n",
              "      <td>Bogotá</td>\n",
              "      <td>5</td>\n",
              "      <td>Tarjeta de crédito</td>\n",
              "      <td>1</td>\n",
              "      <td>4.60971</td>\n",
              "      <td>-74.08175</td>\n",
              "    </tr>\n",
              "  </tbody>\n",
              "</table>\n",
              "</div>"
            ],
            "text/plain": [
              "            Producto   Categoría del Producto    Precio  Costo de envío  \\\n",
              "0   Silla de oficina                  Muebles  283600.0         15300.0   \n",
              "1          Pandereta   Instrumentos musicales   76800.0          2300.0   \n",
              "2          Cama king                  Muebles  443300.0         23800.0   \n",
              "3          Cama king                  Muebles  906200.0         46400.0   \n",
              "4   Silla de oficina                  Muebles  397800.0         19400.0   \n",
              "5  Guitarra acústica   Instrumentos musicales  298400.0         16100.0   \n",
              "6            Mochila     Deportes y diversión  105900.0          9000.0   \n",
              "7        Tablet ABXY             Electrónicos  962600.0         49400.0   \n",
              "8    Olla de presión  Artículos para el hogar   82800.0          4800.0   \n",
              "9    Cubo mágico 8x8                 Juguetes    9100.0          3800.0   \n",
              "\n",
              "  Fecha de Compra         Vendedor Lugar de Compra  Calificación  \\\n",
              "0      04/08/2021  Izabela de León        Medellín             1   \n",
              "1      26/11/2020   Blanca Ramirez        Medellín             3   \n",
              "2      22/10/2021  Izabela de León         Pereira             5   \n",
              "3      04/05/2022    Maria Alfonso            Cali             5   \n",
              "4      26/02/2022    Lucas Olivera          Bogotá             4   \n",
              "5      10/09/2021  Beatriz Morales         Leticia             5   \n",
              "6      10/06/2020   Blanca Ramirez          Bogotá             1   \n",
              "7      12/04/2022    Juliana Costa        Medellín             4   \n",
              "8      11/04/2022  Izabela de León    Barranquilla             5   \n",
              "9      04/09/2021    Camila Rivera          Bogotá             5   \n",
              "\n",
              "       Método de pago  Cantidad de cuotas       lat       lon  \n",
              "0               Nequi                   1   6.25184 -75.56359  \n",
              "1  Tarjeta de crédito                   4   6.25184 -75.56359  \n",
              "2  Tarjeta de crédito                  10   4.81333 -75.69611  \n",
              "3  Tarjeta de crédito                  10   3.43722 -76.52250  \n",
              "4  Tarjeta de crédito                   3   4.60971 -74.08175  \n",
              "5  Tarjeta de crédito                   3  -4.21528 -69.94056  \n",
              "6               Cupón                   1   4.60971 -74.08175  \n",
              "7               Nequi                   1   6.25184 -75.56359  \n",
              "8               Nequi                   1  10.96854 -74.78132  \n",
              "9  Tarjeta de crédito                   1   4.60971 -74.08175  "
            ]
          },
          "execution_count": 3,
          "metadata": {},
          "output_type": "execute_result"
        }
      ],
      "source": [
        "tienda_2=pd.DataFrame(tienda2)\n",
        "tienda_2.head(10)"
      ]
    },
    {
      "cell_type": "code",
      "execution_count": 4,
      "metadata": {},
      "outputs": [
        {
          "data": {
            "application/vnd.microsoft.datawrangler.viewer.v0+json": {
              "columns": [
                {
                  "name": "index",
                  "rawType": "int64",
                  "type": "integer"
                },
                {
                  "name": "Producto",
                  "rawType": "object",
                  "type": "string"
                },
                {
                  "name": "Categoría del Producto",
                  "rawType": "object",
                  "type": "string"
                },
                {
                  "name": "Precio",
                  "rawType": "float64",
                  "type": "float"
                },
                {
                  "name": "Costo de envío",
                  "rawType": "float64",
                  "type": "float"
                },
                {
                  "name": "Fecha de Compra",
                  "rawType": "object",
                  "type": "string"
                },
                {
                  "name": "Vendedor",
                  "rawType": "object",
                  "type": "string"
                },
                {
                  "name": "Lugar de Compra",
                  "rawType": "object",
                  "type": "string"
                },
                {
                  "name": "Calificación",
                  "rawType": "int64",
                  "type": "integer"
                },
                {
                  "name": "Método de pago",
                  "rawType": "object",
                  "type": "string"
                },
                {
                  "name": "Cantidad de cuotas",
                  "rawType": "int64",
                  "type": "integer"
                },
                {
                  "name": "lat",
                  "rawType": "float64",
                  "type": "float"
                },
                {
                  "name": "lon",
                  "rawType": "float64",
                  "type": "float"
                }
              ],
              "ref": "58ceb795-788f-46e2-a050-5afc2338ae0d",
              "rows": [
                [
                  "0",
                  "Secadora de ropa",
                  "Electrodomésticos",
                  "1285100.0",
                  "66600.0",
                  "17/12/2021",
                  "Camila Rivera",
                  "Santa Marta",
                  "4",
                  "Tarjeta de crédito",
                  "4",
                  "11.24079",
                  "-74.19904"
                ],
                [
                  "1",
                  "Mesa de noche",
                  "Muebles",
                  "290100.0",
                  "13600.0",
                  "10/02/2021",
                  "Maria Alfonso",
                  "Cali",
                  "3",
                  "Tarjeta de crédito",
                  "1",
                  "3.43722",
                  "-76.5225"
                ],
                [
                  "2",
                  "Guitarra acústica",
                  "Instrumentos musicales",
                  "303500.0",
                  "17400.0",
                  "22/01/2023",
                  "Lucas Olivera",
                  "Bogotá",
                  "5",
                  "Tarjeta de crédito",
                  "3",
                  "4.60971",
                  "-74.08175"
                ],
                [
                  "3",
                  "Balón de voleibol",
                  "Deportes y diversión",
                  "58800.0",
                  "3300.0",
                  "22/03/2022",
                  "Pedro Gomez",
                  "Barranquilla",
                  "4",
                  "Tarjeta de crédito",
                  "6",
                  "10.96854",
                  "-74.78132"
                ],
                [
                  "4",
                  "Armario",
                  "Muebles",
                  "521100.0",
                  "25900.0",
                  "12/01/2022",
                  "Blanca Ramirez",
                  "Bogotá",
                  "1",
                  "Tarjeta de crédito",
                  "1",
                  "4.60971",
                  "-74.08175"
                ],
                [
                  "5",
                  "Impresora",
                  "Electrónicos",
                  "230700.0",
                  "10500.0",
                  "20/11/2022",
                  "Mariana Herrera",
                  "Medellín",
                  "5",
                  "Tarjeta de crédito",
                  "5",
                  "6.25184",
                  "-75.56359"
                ],
                [
                  "6",
                  "Carrito de control remoto",
                  "Juguetes",
                  "55700.0",
                  "3200.0",
                  "07/07/2020",
                  "Ángel Rodriguez",
                  "Bogotá",
                  "2",
                  "Nequi",
                  "1",
                  "4.60971",
                  "-74.08175"
                ],
                [
                  "7",
                  "Silla de oficina",
                  "Muebles",
                  "464600.0",
                  "25100.0",
                  "01/05/2022",
                  "Santiago Silva",
                  "Bogotá",
                  "5",
                  "Nequi",
                  "1",
                  "4.60971",
                  "-74.08175"
                ],
                [
                  "8",
                  "Pandereta",
                  "Instrumentos musicales",
                  "43500.0",
                  "2700.0",
                  "27/10/2021",
                  "Maria Alfonso",
                  "Medellín",
                  "5",
                  "Tarjeta de crédito",
                  "3",
                  "6.25184",
                  "-75.56359"
                ],
                [
                  "9",
                  "Cubertería",
                  "Artículos para el hogar",
                  "33500.0",
                  "0.0",
                  "03/05/2022",
                  "Felipe Santos",
                  "Medellín",
                  "5",
                  "Nequi",
                  "1",
                  "6.25184",
                  "-75.56359"
                ]
              ],
              "shape": {
                "columns": 12,
                "rows": 10
              }
            },
            "text/html": [
              "<div>\n",
              "<style scoped>\n",
              "    .dataframe tbody tr th:only-of-type {\n",
              "        vertical-align: middle;\n",
              "    }\n",
              "\n",
              "    .dataframe tbody tr th {\n",
              "        vertical-align: top;\n",
              "    }\n",
              "\n",
              "    .dataframe thead th {\n",
              "        text-align: right;\n",
              "    }\n",
              "</style>\n",
              "<table border=\"1\" class=\"dataframe\">\n",
              "  <thead>\n",
              "    <tr style=\"text-align: right;\">\n",
              "      <th></th>\n",
              "      <th>Producto</th>\n",
              "      <th>Categoría del Producto</th>\n",
              "      <th>Precio</th>\n",
              "      <th>Costo de envío</th>\n",
              "      <th>Fecha de Compra</th>\n",
              "      <th>Vendedor</th>\n",
              "      <th>Lugar de Compra</th>\n",
              "      <th>Calificación</th>\n",
              "      <th>Método de pago</th>\n",
              "      <th>Cantidad de cuotas</th>\n",
              "      <th>lat</th>\n",
              "      <th>lon</th>\n",
              "    </tr>\n",
              "  </thead>\n",
              "  <tbody>\n",
              "    <tr>\n",
              "      <th>0</th>\n",
              "      <td>Secadora de ropa</td>\n",
              "      <td>Electrodomésticos</td>\n",
              "      <td>1285100.0</td>\n",
              "      <td>66600.0</td>\n",
              "      <td>17/12/2021</td>\n",
              "      <td>Camila Rivera</td>\n",
              "      <td>Santa Marta</td>\n",
              "      <td>4</td>\n",
              "      <td>Tarjeta de crédito</td>\n",
              "      <td>4</td>\n",
              "      <td>11.24079</td>\n",
              "      <td>-74.19904</td>\n",
              "    </tr>\n",
              "    <tr>\n",
              "      <th>1</th>\n",
              "      <td>Mesa de noche</td>\n",
              "      <td>Muebles</td>\n",
              "      <td>290100.0</td>\n",
              "      <td>13600.0</td>\n",
              "      <td>10/02/2021</td>\n",
              "      <td>Maria Alfonso</td>\n",
              "      <td>Cali</td>\n",
              "      <td>3</td>\n",
              "      <td>Tarjeta de crédito</td>\n",
              "      <td>1</td>\n",
              "      <td>3.43722</td>\n",
              "      <td>-76.52250</td>\n",
              "    </tr>\n",
              "    <tr>\n",
              "      <th>2</th>\n",
              "      <td>Guitarra acústica</td>\n",
              "      <td>Instrumentos musicales</td>\n",
              "      <td>303500.0</td>\n",
              "      <td>17400.0</td>\n",
              "      <td>22/01/2023</td>\n",
              "      <td>Lucas Olivera</td>\n",
              "      <td>Bogotá</td>\n",
              "      <td>5</td>\n",
              "      <td>Tarjeta de crédito</td>\n",
              "      <td>3</td>\n",
              "      <td>4.60971</td>\n",
              "      <td>-74.08175</td>\n",
              "    </tr>\n",
              "    <tr>\n",
              "      <th>3</th>\n",
              "      <td>Balón de voleibol</td>\n",
              "      <td>Deportes y diversión</td>\n",
              "      <td>58800.0</td>\n",
              "      <td>3300.0</td>\n",
              "      <td>22/03/2022</td>\n",
              "      <td>Pedro Gomez</td>\n",
              "      <td>Barranquilla</td>\n",
              "      <td>4</td>\n",
              "      <td>Tarjeta de crédito</td>\n",
              "      <td>6</td>\n",
              "      <td>10.96854</td>\n",
              "      <td>-74.78132</td>\n",
              "    </tr>\n",
              "    <tr>\n",
              "      <th>4</th>\n",
              "      <td>Armario</td>\n",
              "      <td>Muebles</td>\n",
              "      <td>521100.0</td>\n",
              "      <td>25900.0</td>\n",
              "      <td>12/01/2022</td>\n",
              "      <td>Blanca Ramirez</td>\n",
              "      <td>Bogotá</td>\n",
              "      <td>1</td>\n",
              "      <td>Tarjeta de crédito</td>\n",
              "      <td>1</td>\n",
              "      <td>4.60971</td>\n",
              "      <td>-74.08175</td>\n",
              "    </tr>\n",
              "    <tr>\n",
              "      <th>5</th>\n",
              "      <td>Impresora</td>\n",
              "      <td>Electrónicos</td>\n",
              "      <td>230700.0</td>\n",
              "      <td>10500.0</td>\n",
              "      <td>20/11/2022</td>\n",
              "      <td>Mariana Herrera</td>\n",
              "      <td>Medellín</td>\n",
              "      <td>5</td>\n",
              "      <td>Tarjeta de crédito</td>\n",
              "      <td>5</td>\n",
              "      <td>6.25184</td>\n",
              "      <td>-75.56359</td>\n",
              "    </tr>\n",
              "    <tr>\n",
              "      <th>6</th>\n",
              "      <td>Carrito de control remoto</td>\n",
              "      <td>Juguetes</td>\n",
              "      <td>55700.0</td>\n",
              "      <td>3200.0</td>\n",
              "      <td>07/07/2020</td>\n",
              "      <td>Ángel Rodriguez</td>\n",
              "      <td>Bogotá</td>\n",
              "      <td>2</td>\n",
              "      <td>Nequi</td>\n",
              "      <td>1</td>\n",
              "      <td>4.60971</td>\n",
              "      <td>-74.08175</td>\n",
              "    </tr>\n",
              "    <tr>\n",
              "      <th>7</th>\n",
              "      <td>Silla de oficina</td>\n",
              "      <td>Muebles</td>\n",
              "      <td>464600.0</td>\n",
              "      <td>25100.0</td>\n",
              "      <td>01/05/2022</td>\n",
              "      <td>Santiago Silva</td>\n",
              "      <td>Bogotá</td>\n",
              "      <td>5</td>\n",
              "      <td>Nequi</td>\n",
              "      <td>1</td>\n",
              "      <td>4.60971</td>\n",
              "      <td>-74.08175</td>\n",
              "    </tr>\n",
              "    <tr>\n",
              "      <th>8</th>\n",
              "      <td>Pandereta</td>\n",
              "      <td>Instrumentos musicales</td>\n",
              "      <td>43500.0</td>\n",
              "      <td>2700.0</td>\n",
              "      <td>27/10/2021</td>\n",
              "      <td>Maria Alfonso</td>\n",
              "      <td>Medellín</td>\n",
              "      <td>5</td>\n",
              "      <td>Tarjeta de crédito</td>\n",
              "      <td>3</td>\n",
              "      <td>6.25184</td>\n",
              "      <td>-75.56359</td>\n",
              "    </tr>\n",
              "    <tr>\n",
              "      <th>9</th>\n",
              "      <td>Cubertería</td>\n",
              "      <td>Artículos para el hogar</td>\n",
              "      <td>33500.0</td>\n",
              "      <td>0.0</td>\n",
              "      <td>03/05/2022</td>\n",
              "      <td>Felipe Santos</td>\n",
              "      <td>Medellín</td>\n",
              "      <td>5</td>\n",
              "      <td>Nequi</td>\n",
              "      <td>1</td>\n",
              "      <td>6.25184</td>\n",
              "      <td>-75.56359</td>\n",
              "    </tr>\n",
              "  </tbody>\n",
              "</table>\n",
              "</div>"
            ],
            "text/plain": [
              "                    Producto   Categoría del Producto     Precio  \\\n",
              "0           Secadora de ropa        Electrodomésticos  1285100.0   \n",
              "1              Mesa de noche                  Muebles   290100.0   \n",
              "2          Guitarra acústica   Instrumentos musicales   303500.0   \n",
              "3          Balón de voleibol     Deportes y diversión    58800.0   \n",
              "4                    Armario                  Muebles   521100.0   \n",
              "5                  Impresora             Electrónicos   230700.0   \n",
              "6  Carrito de control remoto                 Juguetes    55700.0   \n",
              "7           Silla de oficina                  Muebles   464600.0   \n",
              "8                  Pandereta   Instrumentos musicales    43500.0   \n",
              "9                 Cubertería  Artículos para el hogar    33500.0   \n",
              "\n",
              "   Costo de envío Fecha de Compra         Vendedor Lugar de Compra  \\\n",
              "0         66600.0      17/12/2021    Camila Rivera     Santa Marta   \n",
              "1         13600.0      10/02/2021    Maria Alfonso            Cali   \n",
              "2         17400.0      22/01/2023    Lucas Olivera          Bogotá   \n",
              "3          3300.0      22/03/2022      Pedro Gomez    Barranquilla   \n",
              "4         25900.0      12/01/2022   Blanca Ramirez          Bogotá   \n",
              "5         10500.0      20/11/2022  Mariana Herrera        Medellín   \n",
              "6          3200.0      07/07/2020  Ángel Rodriguez          Bogotá   \n",
              "7         25100.0      01/05/2022   Santiago Silva          Bogotá   \n",
              "8          2700.0      27/10/2021    Maria Alfonso        Medellín   \n",
              "9             0.0      03/05/2022    Felipe Santos        Medellín   \n",
              "\n",
              "   Calificación      Método de pago  Cantidad de cuotas       lat       lon  \n",
              "0             4  Tarjeta de crédito                   4  11.24079 -74.19904  \n",
              "1             3  Tarjeta de crédito                   1   3.43722 -76.52250  \n",
              "2             5  Tarjeta de crédito                   3   4.60971 -74.08175  \n",
              "3             4  Tarjeta de crédito                   6  10.96854 -74.78132  \n",
              "4             1  Tarjeta de crédito                   1   4.60971 -74.08175  \n",
              "5             5  Tarjeta de crédito                   5   6.25184 -75.56359  \n",
              "6             2               Nequi                   1   4.60971 -74.08175  \n",
              "7             5               Nequi                   1   4.60971 -74.08175  \n",
              "8             5  Tarjeta de crédito                   3   6.25184 -75.56359  \n",
              "9             5               Nequi                   1   6.25184 -75.56359  "
            ]
          },
          "execution_count": 4,
          "metadata": {},
          "output_type": "execute_result"
        }
      ],
      "source": [
        "tienda_3=pd.DataFrame(tienda3)\n",
        "tienda_3.head(10)"
      ]
    },
    {
      "cell_type": "code",
      "execution_count": 5,
      "metadata": {},
      "outputs": [
        {
          "data": {
            "application/vnd.microsoft.datawrangler.viewer.v0+json": {
              "columns": [
                {
                  "name": "index",
                  "rawType": "int64",
                  "type": "integer"
                },
                {
                  "name": "Producto",
                  "rawType": "object",
                  "type": "string"
                },
                {
                  "name": "Categoría del Producto",
                  "rawType": "object",
                  "type": "string"
                },
                {
                  "name": "Precio",
                  "rawType": "float64",
                  "type": "float"
                },
                {
                  "name": "Costo de envío",
                  "rawType": "float64",
                  "type": "float"
                },
                {
                  "name": "Fecha de Compra",
                  "rawType": "object",
                  "type": "string"
                },
                {
                  "name": "Vendedor",
                  "rawType": "object",
                  "type": "string"
                },
                {
                  "name": "Lugar de Compra",
                  "rawType": "object",
                  "type": "string"
                },
                {
                  "name": "Calificación",
                  "rawType": "int64",
                  "type": "integer"
                },
                {
                  "name": "Método de pago",
                  "rawType": "object",
                  "type": "string"
                },
                {
                  "name": "Cantidad de cuotas",
                  "rawType": "int64",
                  "type": "integer"
                },
                {
                  "name": "lat",
                  "rawType": "float64",
                  "type": "float"
                },
                {
                  "name": "lon",
                  "rawType": "float64",
                  "type": "float"
                }
              ],
              "ref": "818b19e2-1d83-4061-ac57-52061a13df77",
              "rows": [
                [
                  "0",
                  "Lavavajillas",
                  "Electrodomésticos",
                  "1084800.0",
                  "56000.0",
                  "11/11/2022",
                  "Rafael Acosta",
                  "Bogotá",
                  "4",
                  "Tarjeta de crédito",
                  "3",
                  "4.60971",
                  "-74.08175"
                ],
                [
                  "1",
                  "Cama box",
                  "Muebles",
                  "473800.0",
                  "25400.0",
                  "03/01/2020",
                  "Izabela de León",
                  "Cúcuta",
                  "5",
                  "Tarjeta de crédito",
                  "2",
                  "7.89391",
                  "-72.50782"
                ],
                [
                  "2",
                  "Balón de baloncesto",
                  "Deportes y diversión",
                  "23700.0",
                  "0.0",
                  "25/12/2022",
                  "Maria Alfonso",
                  "Medellín",
                  "5",
                  "Nequi",
                  "1",
                  "6.25184",
                  "-75.56359"
                ],
                [
                  "3",
                  "Modelado predictivo",
                  "Libros",
                  "57700.0",
                  "1300.0",
                  "23/11/2021",
                  "Lucas Olivera",
                  "Medellín",
                  "3",
                  "Nequi",
                  "1",
                  "6.25184",
                  "-75.56359"
                ],
                [
                  "4",
                  "Auriculares",
                  "Electrónicos",
                  "138900.0",
                  "5600.0",
                  "25/04/2022",
                  "Blanca Ramirez",
                  "Bogotá",
                  "4",
                  "Tarjeta de crédito",
                  "7",
                  "4.60971",
                  "-74.08175"
                ],
                [
                  "5",
                  "Refrigerador",
                  "Electrodomésticos",
                  "1591900.0",
                  "83000.0",
                  "30/05/2020",
                  "Beatriz Morales",
                  "Cartagena",
                  "1",
                  "Tarjeta de crédito",
                  "10",
                  "10.39972",
                  "-75.51444"
                ],
                [
                  "6",
                  "Guitarra eléctrica",
                  "Instrumentos musicales",
                  "626200.0",
                  "38000.0",
                  "11/07/2021",
                  "Izabela de León",
                  "Medellín",
                  "5",
                  "Tarjeta de crédito",
                  "1",
                  "6.25184",
                  "-75.56359"
                ],
                [
                  "7",
                  "Auriculares con micrófono",
                  "Electrónicos",
                  "94500.0",
                  "11900.0",
                  "19/02/2022",
                  "Santiago Silva",
                  "Medellín",
                  "4",
                  "Tarjeta de crédito",
                  "2",
                  "6.25184",
                  "-75.56359"
                ],
                [
                  "8",
                  "Iphone 15",
                  "Electrónicos",
                  "2339000.0",
                  "122700.0",
                  "15/10/2022",
                  "Camila Rivera",
                  "Bogotá",
                  "5",
                  "Tarjeta de crédito",
                  "3",
                  "4.60971",
                  "-74.08175"
                ],
                [
                  "9",
                  "Mesa de noche",
                  "Muebles",
                  "273300.0",
                  "21900.0",
                  "18/11/2022",
                  "Rafael Acosta",
                  "Bogotá",
                  "1",
                  "Tarjeta de crédito",
                  "3",
                  "4.60971",
                  "-74.08175"
                ]
              ],
              "shape": {
                "columns": 12,
                "rows": 10
              }
            },
            "text/html": [
              "<div>\n",
              "<style scoped>\n",
              "    .dataframe tbody tr th:only-of-type {\n",
              "        vertical-align: middle;\n",
              "    }\n",
              "\n",
              "    .dataframe tbody tr th {\n",
              "        vertical-align: top;\n",
              "    }\n",
              "\n",
              "    .dataframe thead th {\n",
              "        text-align: right;\n",
              "    }\n",
              "</style>\n",
              "<table border=\"1\" class=\"dataframe\">\n",
              "  <thead>\n",
              "    <tr style=\"text-align: right;\">\n",
              "      <th></th>\n",
              "      <th>Producto</th>\n",
              "      <th>Categoría del Producto</th>\n",
              "      <th>Precio</th>\n",
              "      <th>Costo de envío</th>\n",
              "      <th>Fecha de Compra</th>\n",
              "      <th>Vendedor</th>\n",
              "      <th>Lugar de Compra</th>\n",
              "      <th>Calificación</th>\n",
              "      <th>Método de pago</th>\n",
              "      <th>Cantidad de cuotas</th>\n",
              "      <th>lat</th>\n",
              "      <th>lon</th>\n",
              "    </tr>\n",
              "  </thead>\n",
              "  <tbody>\n",
              "    <tr>\n",
              "      <th>0</th>\n",
              "      <td>Lavavajillas</td>\n",
              "      <td>Electrodomésticos</td>\n",
              "      <td>1084800.0</td>\n",
              "      <td>56000.0</td>\n",
              "      <td>11/11/2022</td>\n",
              "      <td>Rafael Acosta</td>\n",
              "      <td>Bogotá</td>\n",
              "      <td>4</td>\n",
              "      <td>Tarjeta de crédito</td>\n",
              "      <td>3</td>\n",
              "      <td>4.60971</td>\n",
              "      <td>-74.08175</td>\n",
              "    </tr>\n",
              "    <tr>\n",
              "      <th>1</th>\n",
              "      <td>Cama box</td>\n",
              "      <td>Muebles</td>\n",
              "      <td>473800.0</td>\n",
              "      <td>25400.0</td>\n",
              "      <td>03/01/2020</td>\n",
              "      <td>Izabela de León</td>\n",
              "      <td>Cúcuta</td>\n",
              "      <td>5</td>\n",
              "      <td>Tarjeta de crédito</td>\n",
              "      <td>2</td>\n",
              "      <td>7.89391</td>\n",
              "      <td>-72.50782</td>\n",
              "    </tr>\n",
              "    <tr>\n",
              "      <th>2</th>\n",
              "      <td>Balón de baloncesto</td>\n",
              "      <td>Deportes y diversión</td>\n",
              "      <td>23700.0</td>\n",
              "      <td>0.0</td>\n",
              "      <td>25/12/2022</td>\n",
              "      <td>Maria Alfonso</td>\n",
              "      <td>Medellín</td>\n",
              "      <td>5</td>\n",
              "      <td>Nequi</td>\n",
              "      <td>1</td>\n",
              "      <td>6.25184</td>\n",
              "      <td>-75.56359</td>\n",
              "    </tr>\n",
              "    <tr>\n",
              "      <th>3</th>\n",
              "      <td>Modelado predictivo</td>\n",
              "      <td>Libros</td>\n",
              "      <td>57700.0</td>\n",
              "      <td>1300.0</td>\n",
              "      <td>23/11/2021</td>\n",
              "      <td>Lucas Olivera</td>\n",
              "      <td>Medellín</td>\n",
              "      <td>3</td>\n",
              "      <td>Nequi</td>\n",
              "      <td>1</td>\n",
              "      <td>6.25184</td>\n",
              "      <td>-75.56359</td>\n",
              "    </tr>\n",
              "    <tr>\n",
              "      <th>4</th>\n",
              "      <td>Auriculares</td>\n",
              "      <td>Electrónicos</td>\n",
              "      <td>138900.0</td>\n",
              "      <td>5600.0</td>\n",
              "      <td>25/04/2022</td>\n",
              "      <td>Blanca Ramirez</td>\n",
              "      <td>Bogotá</td>\n",
              "      <td>4</td>\n",
              "      <td>Tarjeta de crédito</td>\n",
              "      <td>7</td>\n",
              "      <td>4.60971</td>\n",
              "      <td>-74.08175</td>\n",
              "    </tr>\n",
              "    <tr>\n",
              "      <th>5</th>\n",
              "      <td>Refrigerador</td>\n",
              "      <td>Electrodomésticos</td>\n",
              "      <td>1591900.0</td>\n",
              "      <td>83000.0</td>\n",
              "      <td>30/05/2020</td>\n",
              "      <td>Beatriz Morales</td>\n",
              "      <td>Cartagena</td>\n",
              "      <td>1</td>\n",
              "      <td>Tarjeta de crédito</td>\n",
              "      <td>10</td>\n",
              "      <td>10.39972</td>\n",
              "      <td>-75.51444</td>\n",
              "    </tr>\n",
              "    <tr>\n",
              "      <th>6</th>\n",
              "      <td>Guitarra eléctrica</td>\n",
              "      <td>Instrumentos musicales</td>\n",
              "      <td>626200.0</td>\n",
              "      <td>38000.0</td>\n",
              "      <td>11/07/2021</td>\n",
              "      <td>Izabela de León</td>\n",
              "      <td>Medellín</td>\n",
              "      <td>5</td>\n",
              "      <td>Tarjeta de crédito</td>\n",
              "      <td>1</td>\n",
              "      <td>6.25184</td>\n",
              "      <td>-75.56359</td>\n",
              "    </tr>\n",
              "    <tr>\n",
              "      <th>7</th>\n",
              "      <td>Auriculares con micrófono</td>\n",
              "      <td>Electrónicos</td>\n",
              "      <td>94500.0</td>\n",
              "      <td>11900.0</td>\n",
              "      <td>19/02/2022</td>\n",
              "      <td>Santiago Silva</td>\n",
              "      <td>Medellín</td>\n",
              "      <td>4</td>\n",
              "      <td>Tarjeta de crédito</td>\n",
              "      <td>2</td>\n",
              "      <td>6.25184</td>\n",
              "      <td>-75.56359</td>\n",
              "    </tr>\n",
              "    <tr>\n",
              "      <th>8</th>\n",
              "      <td>Iphone 15</td>\n",
              "      <td>Electrónicos</td>\n",
              "      <td>2339000.0</td>\n",
              "      <td>122700.0</td>\n",
              "      <td>15/10/2022</td>\n",
              "      <td>Camila Rivera</td>\n",
              "      <td>Bogotá</td>\n",
              "      <td>5</td>\n",
              "      <td>Tarjeta de crédito</td>\n",
              "      <td>3</td>\n",
              "      <td>4.60971</td>\n",
              "      <td>-74.08175</td>\n",
              "    </tr>\n",
              "    <tr>\n",
              "      <th>9</th>\n",
              "      <td>Mesa de noche</td>\n",
              "      <td>Muebles</td>\n",
              "      <td>273300.0</td>\n",
              "      <td>21900.0</td>\n",
              "      <td>18/11/2022</td>\n",
              "      <td>Rafael Acosta</td>\n",
              "      <td>Bogotá</td>\n",
              "      <td>1</td>\n",
              "      <td>Tarjeta de crédito</td>\n",
              "      <td>3</td>\n",
              "      <td>4.60971</td>\n",
              "      <td>-74.08175</td>\n",
              "    </tr>\n",
              "  </tbody>\n",
              "</table>\n",
              "</div>"
            ],
            "text/plain": [
              "                    Producto  Categoría del Producto     Precio  \\\n",
              "0               Lavavajillas       Electrodomésticos  1084800.0   \n",
              "1                   Cama box                 Muebles   473800.0   \n",
              "2        Balón de baloncesto    Deportes y diversión    23700.0   \n",
              "3        Modelado predictivo                  Libros    57700.0   \n",
              "4                Auriculares            Electrónicos   138900.0   \n",
              "5               Refrigerador       Electrodomésticos  1591900.0   \n",
              "6         Guitarra eléctrica  Instrumentos musicales   626200.0   \n",
              "7  Auriculares con micrófono            Electrónicos    94500.0   \n",
              "8                  Iphone 15            Electrónicos  2339000.0   \n",
              "9              Mesa de noche                 Muebles   273300.0   \n",
              "\n",
              "   Costo de envío Fecha de Compra         Vendedor Lugar de Compra  \\\n",
              "0         56000.0      11/11/2022    Rafael Acosta          Bogotá   \n",
              "1         25400.0      03/01/2020  Izabela de León          Cúcuta   \n",
              "2             0.0      25/12/2022    Maria Alfonso        Medellín   \n",
              "3          1300.0      23/11/2021    Lucas Olivera        Medellín   \n",
              "4          5600.0      25/04/2022   Blanca Ramirez          Bogotá   \n",
              "5         83000.0      30/05/2020  Beatriz Morales       Cartagena   \n",
              "6         38000.0      11/07/2021  Izabela de León        Medellín   \n",
              "7         11900.0      19/02/2022   Santiago Silva        Medellín   \n",
              "8        122700.0      15/10/2022    Camila Rivera          Bogotá   \n",
              "9         21900.0      18/11/2022    Rafael Acosta          Bogotá   \n",
              "\n",
              "   Calificación      Método de pago  Cantidad de cuotas       lat       lon  \n",
              "0             4  Tarjeta de crédito                   3   4.60971 -74.08175  \n",
              "1             5  Tarjeta de crédito                   2   7.89391 -72.50782  \n",
              "2             5               Nequi                   1   6.25184 -75.56359  \n",
              "3             3               Nequi                   1   6.25184 -75.56359  \n",
              "4             4  Tarjeta de crédito                   7   4.60971 -74.08175  \n",
              "5             1  Tarjeta de crédito                  10  10.39972 -75.51444  \n",
              "6             5  Tarjeta de crédito                   1   6.25184 -75.56359  \n",
              "7             4  Tarjeta de crédito                   2   6.25184 -75.56359  \n",
              "8             5  Tarjeta de crédito                   3   4.60971 -74.08175  \n",
              "9             1  Tarjeta de crédito                   3   4.60971 -74.08175  "
            ]
          },
          "execution_count": 5,
          "metadata": {},
          "output_type": "execute_result"
        }
      ],
      "source": [
        "tienda_4=pd.DataFrame(tienda4)\n",
        "tienda_4.head(10)"
      ]
    },
    {
      "cell_type": "markdown",
      "metadata": {
        "id": "2V_vcAPzWZmR"
      },
      "source": [
        "# 2. Ventas por categoría"
      ]
    },
    {
      "cell_type": "code",
      "execution_count": 6,
      "metadata": {
        "id": "A34YupIuYhfF"
      },
      "outputs": [
        {
          "name": "stdout",
          "output_type": "stream",
          "text": [
            "Los ingresos totales de la Tienda 1 son:$1,150,880,400.00\n",
            "Los ingresos totales de la Tienda 2 son:$1,116,343,500.00\n",
            "Los ingresos totales de la Tienda 3 son:$1,098,019,600.00\n",
            "Los ingresos totales de la Tienda 4 son:$1,038,375,700.00\n"
          ]
        }
      ],
      "source": [
        "ingresos_tienda1 = tienda_1[\"Precio\"].sum()\n",
        "print(f\"Los ingresos totales de la Tienda 1 son:${ingresos_tienda1:,.2f}\")\n",
        "ingresos_tienda2 = tienda_2[\"Precio\"].sum()\n",
        "print(f\"Los ingresos totales de la Tienda 2 son:${ingresos_tienda2:,.2f}\")\n",
        "ingresos_tienda3 = tienda_3[\"Precio\"].sum()\n",
        "print(f\"Los ingresos totales de la Tienda 3 son:${ingresos_tienda3:,.2f}\")\n",
        "ingresos_tienda4 = tienda_4[\"Precio\"].sum()\n",
        "print(f\"Los ingresos totales de la Tienda 4 son:${ingresos_tienda4:,.2f}\")"
      ]
    },
    {
      "cell_type": "markdown",
      "metadata": {},
      "source": [
        "- La tienda con mayores ingresos es la **Tienda 1**\n",
        "- La tienda con menores ingresos es la **Tienda 2**"
      ]
    },
    {
      "cell_type": "code",
      "execution_count": 7,
      "metadata": {
        "id": "yZR6cOjXYSk1"
      },
      "outputs": [
        {
          "name": "stdout",
          "output_type": "stream",
          "text": [
            "\n",
            "Tienda 1 - Categorias mas vendidas:\n",
            "              Categoria  Cantidad Vendida\n",
            "                Muebles               465\n",
            "           Electrónicos               448\n",
            "               Juguetes               324\n",
            "      Electrodomésticos               312\n",
            "   Deportes y diversión               284\n",
            " Instrumentos musicales               182\n",
            "                 Libros               173\n",
            "Artículos para el hogar               171\n",
            "\n",
            "Tienda 2 - Categorias mas vendidas:\n",
            "              Categoria  Cantidad Vendida\n",
            "                Muebles               442\n",
            "           Electrónicos               422\n",
            "               Juguetes               313\n",
            "      Electrodomésticos               305\n",
            "   Deportes y diversión               275\n",
            " Instrumentos musicales               224\n",
            "                 Libros               197\n",
            "Artículos para el hogar               181\n",
            "\n",
            "Tienda 3 - Categorias mas vendidas:\n",
            "              Categoria  Cantidad Vendida\n",
            "                Muebles               499\n",
            "           Electrónicos               451\n",
            "               Juguetes               315\n",
            "      Electrodomésticos               278\n",
            "   Deportes y diversión               277\n",
            "                 Libros               185\n",
            " Instrumentos musicales               177\n",
            "Artículos para el hogar               177\n",
            "\n",
            "Tienda 4 - Categorias mas vendidas:\n",
            "              Categoria  Cantidad Vendida\n",
            "                Muebles               480\n",
            "           Electrónicos               451\n",
            "               Juguetes               338\n",
            "   Deportes y diversión               277\n",
            "      Electrodomésticos               254\n",
            "Artículos para el hogar               201\n",
            "                 Libros               187\n",
            " Instrumentos musicales               170\n"
          ]
        }
      ],
      "source": [
        "tiendas = {\n",
        "    \"Tienda 1\": tienda_1,\n",
        "    \"Tienda 2\": tienda_2,\n",
        "    \"Tienda 3\": tienda_3,\n",
        "    \"Tienda 4\": tienda_4 \n",
        "}\n",
        "\n",
        "for nombre_tienda, df in tiendas.items():\n",
        "    ventas_categoria = df[\"Categoría del Producto\"].value_counts().reset_index()\n",
        "    ventas_categoria.columns = [\"Categoria\", \"Cantidad Vendida\"]\n",
        "    ventas_categoria = ventas_categoria.sort_values(\"Cantidad Vendida\", ascending=False)\n",
        "\n",
        "    print(f\"\\n{nombre_tienda} - Categorias mas vendidas:\")\n",
        "    print(ventas_categoria.head(10).to_string(index=False))"
      ]
    },
    {
      "cell_type": "markdown",
      "metadata": {
        "id": "Rq6tU_xSY3jk"
      },
      "source": [
        "# 3. Calificación promedio de la tienda\n"
      ]
    },
    {
      "cell_type": "code",
      "execution_count": 8,
      "metadata": {
        "id": "bh3jjjJwY5MU"
      },
      "outputs": [
        {
          "name": "stdout",
          "output_type": "stream",
          "text": [
            "\n",
            "Satisfacción promedio de clientes por tienda (de mayor a menor):\n",
            "Tienda 3: 4.05/5\n",
            "Tienda 2: 4.04/5\n",
            "Tienda 4: 4.00/5\n",
            "Tienda 1: 3.98/5\n"
          ]
        }
      ],
      "source": [
        "import pandas as pd\n",
        "\n",
        "tiendas = {\n",
        "    \"Tienda 1\": tienda_1,\n",
        "    \"Tienda 2\": tienda_2,\n",
        "    \"Tienda 3\": tienda_3,\n",
        "    \"Tienda 4\": tienda_4\n",
        "}\n",
        "\n",
        "promedio_calificaciones = {}\n",
        "\n",
        "for nombre_tienda, df in tiendas.items():\n",
        "    if \"Calificación\" in df.columns:\n",
        "        promedio = df[\"Calificación\"].mean()\n",
        "        promedio_calificaciones[nombre_tienda] = promedio\n",
        "    else: \n",
        "        print(f\"⚠️ Advertencia: La columna 'Calificación' no existe en {nombre_tienda}\")\n",
        "\n",
        "print(\"\\nSatisfacción promedio de clientes por tienda (de mayor a menor):\")\n",
        "for tienda, calif in sorted(promedio_calificaciones.items(), key=lambda x: x[1], reverse=True):\n",
        "    print(f\"{tienda}: {calif:.2f}/5\")"
      ]
    },
    {
      "cell_type": "code",
      "execution_count": null,
      "metadata": {
        "id": "I0KkjPoTY88F"
      },
      "outputs": [],
      "source": []
    },
    {
      "cell_type": "markdown",
      "metadata": {
        "id": "DmNp1KPBZCm-"
      },
      "source": [
        "# 4. Productos más y menos vendidos"
      ]
    },
    {
      "cell_type": "code",
      "execution_count": 32,
      "metadata": {
        "id": "qoyjqijQZHfF"
      },
      "outputs": [],
      "source": [
        "import matplotlib.pyplot as plt\n"
      ]
    },
    {
      "cell_type": "markdown",
      "metadata": {},
      "source": [
        "***Tienda 1***"
      ]
    },
    {
      "cell_type": "code",
      "execution_count": 38,
      "metadata": {
        "id": "0Sw3sd4IZIGW"
      },
      "outputs": [
        {
          "name": "stdout",
          "output_type": "stream",
          "text": [
            "Tienda 1 - Productos Más Vendidos:\n",
            "Producto\n",
            "Microondas          60\n",
            "TV LED UHD 4K       60\n",
            "Armario             60\n",
            "Secadora de ropa    58\n",
            "Mesa de noche       56\n",
            "Name: count, dtype: int64\n"
          ]
        },
        {
          "data": {
            "image/png": "[encoded data removed]",
            "text/plain": [
              "<Figure size 640x480 with 1 Axes>"
            ]
          },
          "metadata": {},
          "output_type": "display_data"
        }
      ],
      "source": [
        "if \"Producto\" in tienda_1.columns:\n",
        "    ventas = tienda_1[\"Producto\"].value_counts()\n",
        "    print(\"Tienda 1 - Productos Más Vendidos:\")\n",
        "    print(ventas.head())\n",
        "    \n",
        "    ventas.head(5).plot(kind='bar', title='Productos más vendidos', color='r')\n",
        "    plt.xticks(rotation=45)\n",
        "    plt.show()\n",
        "else:\n",
        "    print(\"Tienda 1 no tiene columna 'Producto'\")"
      ]
    },
    {
      "cell_type": "markdown",
      "metadata": {},
      "source": [
        "***Tienda 2***"
      ]
    },
    {
      "cell_type": "code",
      "execution_count": 34,
      "metadata": {},
      "outputs": [
        {
          "name": "stdout",
          "output_type": "stream",
          "text": [
            "Tienda 2 - Productos Más Vendidos:\n",
            "Producto\n",
            "Iniciando en programación    65\n",
            "Microondas                   62\n",
            "Batería                      61\n",
            "Guitarra acústica            58\n",
            "Pandereta                    58\n",
            "Name: count, dtype: int64\n"
          ]
        },
        {
          "data": {
            "image/png": "[encoded data removed]",
            "text/plain": [
              "<Figure size 640x480 with 1 Axes>"
            ]
          },
          "metadata": {},
          "output_type": "display_data"
        }
      ],
      "source": [
        "if \"Producto\" in tienda_2.columns:\n",
        "    ventas = tienda_2[\"Producto\"].value_counts()\n",
        "    print(\"Tienda 2 - Productos Más Vendidos:\")\n",
        "    print(ventas.head(5))\n",
        "    \n",
        "    ventas.head(5).plot(kind='bar', title='Productos más vendidos', color='g')\n",
        "    plt.xticks(rotation=45)\n",
        "    plt.show()\n",
        "else:\n",
        "    print(\"Tienda 2 no tiene columna 'Producto'\")"
      ]
    },
    {
      "cell_type": "markdown",
      "metadata": {},
      "source": [
        "***Tienda 3***"
      ]
    },
    {
      "cell_type": "code",
      "execution_count": 35,
      "metadata": {},
      "outputs": [
        {
          "name": "stdout",
          "output_type": "stream",
          "text": [
            "Tienda 3 - Productos Más Vendidos:\n",
            "Producto\n",
            "Microondas          60\n",
            "TV LED UHD 4K       60\n",
            "Armario             60\n",
            "Secadora de ropa    58\n",
            "Mesa de noche       56\n",
            "Name: count, dtype: int64\n"
          ]
        },
        {
          "data": {
            "image/png": "[encoded data removed]",
            "text/plain": [
              "<Figure size 640x480 with 1 Axes>"
            ]
          },
          "metadata": {},
          "output_type": "display_data"
        }
      ],
      "source": [
        "if \"Producto\" in tienda_3.columns:\n",
        "    ventas = tienda_1[\"Producto\"].value_counts()\n",
        "    print(\"Tienda 3 - Productos Más Vendidos:\")\n",
        "    print(ventas.head(5))\n",
        "    \n",
        "    ventas.head(5).plot(kind='bar', title='Productos más vendidos', color='b')\n",
        "    plt.xticks(rotation=45)\n",
        "    plt.show()\n",
        "else:\n",
        "    print(\"Tienda 3 no tiene columna 'Producto'\")"
      ]
    },
    {
      "cell_type": "markdown",
      "metadata": {},
      "source": [
        "***Tienda 4***"
      ]
    },
    {
      "cell_type": "code",
      "execution_count": 36,
      "metadata": {},
      "outputs": [
        {
          "name": "stdout",
          "output_type": "stream",
          "text": [
            "Tienda 4 - Productos Más Vendidos:\n",
            "Producto\n",
            "Cama box                     62\n",
            "Cubertería                   59\n",
            "Dashboards con Power BI      56\n",
            "Cama king                    56\n",
            "Carrito de control remoto    55\n",
            "Name: count, dtype: int64\n"
          ]
        },
        {
          "data": {
            "image/png": "[encoded data removed]",
            "text/plain": [
              "<Figure size 640x480 with 1 Axes>"
            ]
          },
          "metadata": {},
          "output_type": "display_data"
        }
      ],
      "source": [
        "if \"Producto\" in tienda_4.columns:\n",
        "    ventas = tienda_4[\"Producto\"].value_counts()\n",
        "    print(\"Tienda 4 - Productos Más Vendidos:\")\n",
        "    print(ventas.head(5))\n",
        "    \n",
        "    ventas.head(5).plot(kind='bar', title='Productos más vendidos', color='y')\n",
        "    plt.xticks(rotation=45)\n",
        "    plt.show()\n",
        "else:\n",
        "    print(\"Tienda 4 no tiene columna 'Producto'\")"
      ]
    },
    {
      "cell_type": "markdown",
      "metadata": {
        "id": "Fl0cGi3bZKqU"
      },
      "source": [
        "# 5. Envío promedio por tienda"
      ]
    },
    {
      "cell_type": "code",
      "execution_count": 17,
      "metadata": {
        "id": "S2JeaCykZNy9"
      },
      "outputs": [
        {
          "data": {
            "image/png": "[encoded data removed]",
            "text/plain": [
              "<Figure size 640x480 with 1 Axes>"
            ]
          },
          "metadata": {},
          "output_type": "display_data"
        },
        {
          "data": {
            "image/png": "[encoded data removed]",
            "text/plain": [
              "<Figure size 640x480 with 1 Axes>"
            ]
          },
          "metadata": {},
          "output_type": "display_data"
        },
        {
          "data": {
            "image/png": "[encoded data removed]",
            "text/plain": [
              "<Figure size 640x480 with 1 Axes>"
            ]
          },
          "metadata": {},
          "output_type": "display_data"
        },
        {
          "data": {
            "image/png": "[encoded data removed]",
            "text/plain": [
              "<Figure size 640x480 with 1 Axes>"
            ]
          },
          "metadata": {},
          "output_type": "display_data"
        },
        {
          "name": "stdout",
          "output_type": "stream",
          "text": [
            "\n",
            "📊 Resumen costos promedio:\n",
            "Tienda 1: $26018.61\n",
            "Tienda 2: $25216.24\n",
            "Tienda 3: $24805.68\n",
            "Tienda 4: $23459.46\n"
          ]
        }
      ],
      "source": [
        "tiendas = {\n",
        "    \"Tienda 1\": tienda_1,\n",
        "    \"Tienda 2\": tienda_2,\n",
        "    \"Tienda 3\": tienda_3,\n",
        "    \"Tienda 4\": tienda_4\n",
        "}\n",
        "\n",
        "resultados = {}\n",
        "colors = ['skyblue', 'lightgreen', 'salmon', 'gold']\n",
        "\n",
        "for (nombre, df), color in zip(tiendas.items(), colors):\n",
        "    if 'Costo de envío' in df.columns:\n",
        "        costo_prom = df['Costo de envío'].mean()\n",
        "        resultados[nombre] = costo_prom\n",
        "        \n",
        "       \n",
        "        plt.figure()\n",
        "        df['Costo de envío'].plot.hist(title=f'Costos de envío - {nombre}', color=color, bins=15)\n",
        "        plt.axvline(costo_prom, color='red', linestyle='--', label=f'Promedio: ${costo_prom:.2f}')\n",
        "        plt.legend()\n",
        "        plt.show()\n",
        "    else:\n",
        "        print(f\"{nombre} no tiene columna 'Costo de envío'\")\n",
        "\n",
        "\n",
        "if resultados:\n",
        "    print(\"\\n📊 Resumen costos promedio:\")\n",
        "    for tienda, costo in resultados.items():\n",
        "        print(f\"{tienda}: ${costo:.2f}\")"
      ]
    },
    {
      "cell_type": "markdown",
      "metadata": {},
      "source": [
        "***Gráficos***"
      ]
    },
    {
      "cell_type": "markdown",
      "metadata": {},
      "source": [
        "1. Comparacion de ingresos por tienda"
      ]
    },
    {
      "cell_type": "code",
      "execution_count": null,
      "metadata": {
        "id": "0tSdCie9ZQlt"
      },
      "outputs": [
        {
          "data": {
            "image/png": "[encoded data removed]",
            "text/plain": [
              "<Figure size 800x800 with 1 Axes>"
            ]
          },
          "metadata": {},
          "output_type": "display_data"
        }
      ],
      "source": [
        "import matplotlib.pyplot as plt\n",
        "\n",
        "ingresos = {\n",
        "    \"Tienda 1\": tienda_1[\"Precio\"].sum(),\n",
        "    \"Tienda 2\": tienda_2[\"Precio\"].sum(),\n",
        "    \"Tienda 3\": tienda_3[\"Precio\"].sum(),\n",
        "    \"Tienda 4\": tienda_4[\"Precio\"].sum()\n",
        "}\n",
        "\n",
        "total = sum(ingresos.values())\n",
        "porcentajes = {k: (v/total)*100 for k, v in ingresos.items()}\n",
        "\n",
        "plt.figure(figsize=(8, 8))\n",
        "colors = ['#66b3ff', '#99ff99', '#ffcc99', '#ff9999']\n",
        "explode = (0.05, 0, 0, 0)  \n",
        "\n",
        "plt.pie(\n",
        "    porcentajes.values(),\n",
        "    labels=[f\"{k}\\n({v:.1f}%)\" for k, v in porcentajes.items()],\n",
        "    colors=colors,\n",
        "    explode=explode,\n",
        "    autopct='%1.1f%%',\n",
        "    startangle=90,\n",
        "    shadow=True,\n",
        "    textprops={'fontsize': 12}\n",
        ")\n",
        "\n",
        "plt.title(\"Distribución de Ingresos Totales por Tienda\", pad=20, fontsize=14)\n",
        "plt.axis('equal')\n",
        "plt.show()"
      ]
    },
    {
      "cell_type": "markdown",
      "metadata": {},
      "source": [
        "2. Satisfaccion promedio de Clientes por Tienda"
      ]
    },
    {
      "cell_type": "code",
      "execution_count": null,
      "metadata": {},
      "outputs": [
        {
          "data": {
            "image/png": "[encoded data removed]",
            "text/plain": [
              "<Figure size 2000x500 with 1 Axes>"
            ]
          },
          "metadata": {},
          "output_type": "display_data"
        }
      ],
      "source": [
        "calificaciones = {\n",
        "    \"Tienda 1\": tienda_1[\"Calificación\"].mean(),\n",
        "    \"Tienda 2\": tienda_2[\"Calificación\"].mean(),\n",
        "    \"Tienda 3\": tienda_3[\"Calificación\"].mean(),\n",
        "    \"Tienda 4\": tienda_4[\"Calificación\"].mean()\n",
        "}\n",
        "\n",
        "plt.figure(figsize=(20, 5))\n",
        "plt.barh(list(calificaciones.keys()), list(calificaciones.values()), color=['skyblue', 'lightgreen', 'gold', 'salmon'])\n",
        "plt.title(\"Satisfacción Promedio (1-5)\")\n",
        "plt.xlabel(\"Calificación Promedio\")\n",
        "plt.xlim(0, 5) \n",
        "plt.grid(axis='x', linestyle='--', alpha=0.7)\n",
        "plt.show()"
      ]
    },
    {
      "cell_type": "markdown",
      "metadata": {},
      "source": [
        "3. Ingresos y Costos de Envío"
      ]
    },
    {
      "cell_type": "code",
      "execution_count": 31,
      "metadata": {},
      "outputs": [
        {
          "data": {
            "image/png": "[encoded data removed]",
            "text/plain": [
              "<Figure size 1200x600 with 2 Axes>"
            ]
          },
          "metadata": {},
          "output_type": "display_data"
        }
      ],
      "source": [
        "import matplotlib.pyplot as plt\n",
        "import numpy as np\n",
        "\n",
        "# Datos\n",
        "costos_envio = {\n",
        "    \"Tienda 1\": tienda_1[\"Costo de envío\"].mean(),\n",
        "    \"Tienda 2\": tienda_2[\"Costo de envío\"].mean(),\n",
        "    \"Tienda 3\": tienda_3[\"Costo de envío\"].mean(),\n",
        "    \"Tienda 4\": tienda_4[\"Costo de envío\"].mean()\n",
        "}\n",
        "\n",
        "ingresos = {\n",
        "    \"Tienda 1\": tienda_1[\"Precio\"].sum(),\n",
        "    \"Tienda 2\": tienda_2[\"Precio\"].sum(),\n",
        "    \"Tienda 3\": tienda_3[\"Precio\"].sum(),\n",
        "    \"Tienda 4\": tienda_4[\"Precio\"].sum()\n",
        "}\n",
        "\n",
        "tiendas = list(costos_envio.keys())\n",
        "x = np.arange(len(tiendas))  # Posiciones en el eje X\n",
        "\n",
        "fig, ax1 = plt.subplots(figsize=(12, 6))\n",
        "\n",
        "# Barras para Costos de Envío (Eje izquierdo)\n",
        "ax1.bar(x, costos_envio.values(), width=0.6, color='salmon', alpha=0.7, label='Costo Promedio de Envío ($)')\n",
        "ax1.set_xlabel('Tienda')\n",
        "ax1.set_ylabel('Costo Promedio de Envío ($)', color='salmon')\n",
        "ax1.tick_params(axis='y', labelcolor='salmon')\n",
        "ax1.set_xticks(x)\n",
        "ax1.set_xticklabels(tiendas)\n",
        "\n",
        "# Línea para Ingresos (Eje derecho)\n",
        "ax2 = ax1.twinx()\n",
        "ax2.plot(x, ingresos.values(), marker='o', color='skyblue', linewidth=2, markersize=8, label='Ingresos Totales ($)')\n",
        "ax2.set_ylabel('Ingresos Totales ($)', color='skyblue')\n",
        "ax2.tick_params(axis='y', labelcolor='skyblue')\n",
        "\n",
        "# Personalización\n",
        "plt.title('Comparación: Costo de Envío (Barras) vs. Ingresos (Línea) por Tienda', pad=20)\n",
        "\n",
        "# Leyenda unificada\n",
        "lines1, labels1 = ax1.get_legend_handles_labels()\n",
        "lines2, labels2 = ax2.get_legend_handles_labels()\n",
        "ax1.legend(lines1 + lines2, labels1 + labels2, loc='upper left')\n",
        "\n",
        "plt.grid(axis='y', linestyle='--', alpha=0.5)\n",
        "plt.tight_layout()\n",
        "plt.show()"
      ]
    },
    {
      "cell_type": "markdown",
      "metadata": {},
      "source": [
        "****CONCLUSIONES***\n"
      ]
    },
    {
      "cell_type": "markdown",
      "metadata": {},
      "source": [
        "Tienda 1:\n",
        "Porcentaje Ingresos Totales:26.1% //\n",
        "Costos de Envío promedio: **$26018.61** //\n",
        "Satisfaccion: **3.98/5**//\n",
        "\n",
        "\n",
        "Tienda 2:\n",
        "Porcentaje Ingresos Totales:25.4% //\n",
        "Costos de Envío promedio: **$25216.24** //\n",
        "Satisfaccion: 4.04/5\n",
        "\n",
        "\n",
        "Tienda 3:\n",
        "Porcentaje Ingresos Totales:**24.9%** //\n",
        "Costos de Envío promedio: $24805.68//\n",
        "Satisfaccion: 4.05/5\n",
        "\n",
        "\n",
        "Tienda 4:\n",
        "Porcentaje Ingresos Totales: **23.6%**//\n",
        "Costos de Envío promedio: $23459.46//\n",
        "Satisfaccion: **4/5**\n"
      ]
    },
    {
      "cell_type": "markdown",
      "metadata": {},
      "source": [
        "\n",
        "\n",
        "En comparación a las otras tiendas, la **Tienda 4** es la que mantiene ***menores ingresos**, y pese a que su promedio de costo de envío es menor, no llega a ser una diferencia importante. Además, la Tienda 4 es la que tiene el segundo promedio más bajo en relación a la satisfacción de los clientes.\n",
        "Si bien la Tienda 1 tiene un nivel de satisfacción menor y un costo de envío promedio más alto, es la que mantiene los mayores ingresos, sumando un 26% del total.\n",
        "\n",
        "\n",
        "A la luz de lo anterior, y observando que las tiendas 1,2 y 3 son más consistentes en cuanto a ingresos , calificaciónes y costos de envío es posible determinar que **la tienda con menor lucro** y, por lo tanto, la que debería ser vendida es la ***Tienda 4***, en tanto que es recomendable enfocarse en aumentar la satisfacción de los clientes de la Tienda 1 y en disminuir sus costos de envío.\n"
      ]
    }
  ],
  "metadata": {
    "colab": {
      "provenance": []
    },
    "kernelspec": {
      "display_name": "Python 3",
      "name": "python3"
    },
    "language_info": {
      "codemirror_mode": {
        "name": "ipython",
        "version": 3
      },
      "file_extension": ".py",
      "mimetype": "text/x-python",
      "name": "python",
      "nbconvert_exporter": "python",
      "pygments_lexer": "ipython3",
      "version": "3.13.3"
    }
  },
  "nbformat": 4,
  "nbformat_minor": 0
}
